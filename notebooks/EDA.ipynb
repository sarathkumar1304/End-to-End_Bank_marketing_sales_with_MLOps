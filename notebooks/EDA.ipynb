{
 "cells": [
  {
   "cell_type": "code",
   "execution_count": 1,
   "metadata": {},
   "outputs": [],
   "source": [
    "import pandas as pd\n",
    "from analysis_src.basic_analysis import BasicDataInspection"
   ]
  },
  {
   "cell_type": "code",
   "execution_count": 2,
   "metadata": {},
   "outputs": [
    {
     "name": "stdout",
     "output_type": "stream",
     "text": [
      "<class 'pandas.core.frame.DataFrame'>\n",
      "RangeIndex: 45211 entries, 0 to 45210\n",
      "Data columns (total 17 columns):\n",
      " #   Column       Non-Null Count  Dtype \n",
      "---  ------       --------------  ----- \n",
      " 0   age          45211 non-null  int64 \n",
      " 1   job          44923 non-null  object\n",
      " 2   marital      45211 non-null  object\n",
      " 3   education    43354 non-null  object\n",
      " 4   default      45211 non-null  object\n",
      " 5   balance      45211 non-null  int64 \n",
      " 6   housing      45211 non-null  object\n",
      " 7   loan         45211 non-null  object\n",
      " 8   contact      32191 non-null  object\n",
      " 9   day_of_week  45211 non-null  int64 \n",
      " 10  month        45211 non-null  object\n",
      " 11  duration     45211 non-null  int64 \n",
      " 12  campaign     45211 non-null  int64 \n",
      " 13  pdays        45211 non-null  int64 \n",
      " 14  previous     45211 non-null  int64 \n",
      " 15  poutcome     8252 non-null   object\n",
      " 16  y            45211 non-null  object\n",
      "dtypes: int64(7), object(10)\n",
      "memory usage: 5.9+ MB\n"
     ]
    }
   ],
   "source": [
    "basic_info = BasicDataInspection()\n",
    "df = pd.read_csv('/home/sarath_kumar/Bank_Marketing/data/bank_marketing.csv')\n",
    "basic_info.inspect_data(df)"
   ]
  },
  {
   "cell_type": "code",
   "execution_count": 3,
   "metadata": {},
   "outputs": [
    {
     "data": {
      "text/plain": [
       "age                0\n",
       "job              288\n",
       "marital            0\n",
       "education       1857\n",
       "default            0\n",
       "balance            0\n",
       "housing            0\n",
       "loan               0\n",
       "contact        13020\n",
       "day_of_week        0\n",
       "month              0\n",
       "duration           0\n",
       "campaign           0\n",
       "pdays              0\n",
       "previous           0\n",
       "poutcome       36959\n",
       "y                  0\n",
       "dtype: int64"
      ]
     },
     "execution_count": 3,
     "metadata": {},
     "output_type": "execute_result"
    }
   ],
   "source": [
    "basic_info.check_null_values(df)"
   ]
  },
  {
   "cell_type": "markdown",
   "metadata": {},
   "source": [
    "# Dataset Overview\n",
    "\n",
    "The dataset contains **17 columns** with a total of **45,211 entries**. Below is a summary of the dataset:\n",
    "\n",
    "## Numerical Columns\n",
    "- <span style=\"color: orange;\">age</span>, <span style=\"color: orange;\">balance</span>, <span style=\"color: orange;\">day_of_week</span>, <span style=\"color: orange;\">duration</span>, <span style=\"color: orange;\">campaign</span>, <span style=\"color: orange;\">pdays</span>, <span style=\"color: orange;\">previous</span>\n",
    "\n",
    "## Categorical Columns\n",
    "- <span style=\"color: orange;\">job</span>, <span style=\"color: orange;\">marital</span>, <span style=\"color: orange;\">education</span>, <span style=\"color: orange;\">default</span>, <span style=\"color: orange;\">housing</span>, <span style=\"color: orange;\">loan</span>, <span style=\"color: orange;\">contact</span>, <span style=\"color: orange;\">month</span>, <span style=\"color: orange;\">poutcome</span>, <span style=\"color: orange;\">y</span>\n",
    "\n",
    "## Key Insights\n",
    "- There are **missing values** in columns like <span style=\"color: orange;\">job</span>, <span style=\"color: orange;\">education</span>, <span style=\"color: orange;\">contact</span>, and <span style=\"color: orange;\">poutcome</span>.\n",
    "- The target column is <span style=\"color: orange;\">y</span>, which is categorical.\n",
    "- Mixed data types make preprocessing essential for modeling.\n"
   ]
  },
  {
   "cell_type": "code",
   "execution_count": 4,
   "metadata": {},
   "outputs": [
    {
     "data": {
      "text/plain": [
       "np.int64(0)"
      ]
     },
     "execution_count": 4,
     "metadata": {},
     "output_type": "execute_result"
    }
   ],
   "source": [
    "basic_info.check_duplicate_values(df)"
   ]
  },
  {
   "cell_type": "markdown",
   "metadata": {},
   "source": [
    "#### There is no duplicates data in the dataset"
   ]
  },
  {
   "cell_type": "code",
   "execution_count": 5,
   "metadata": {},
   "outputs": [
    {
     "data": {
      "text/html": [
       "<div>\n",
       "<style scoped>\n",
       "    .dataframe tbody tr th:only-of-type {\n",
       "        vertical-align: middle;\n",
       "    }\n",
       "\n",
       "    .dataframe tbody tr th {\n",
       "        vertical-align: top;\n",
       "    }\n",
       "\n",
       "    .dataframe thead th {\n",
       "        text-align: right;\n",
       "    }\n",
       "</style>\n",
       "<table border=\"1\" class=\"dataframe\">\n",
       "  <thead>\n",
       "    <tr style=\"text-align: right;\">\n",
       "      <th></th>\n",
       "      <th>job</th>\n",
       "      <th>marital</th>\n",
       "      <th>education</th>\n",
       "      <th>default</th>\n",
       "      <th>housing</th>\n",
       "      <th>loan</th>\n",
       "      <th>contact</th>\n",
       "      <th>month</th>\n",
       "      <th>poutcome</th>\n",
       "      <th>y</th>\n",
       "    </tr>\n",
       "  </thead>\n",
       "  <tbody>\n",
       "    <tr>\n",
       "      <th>count</th>\n",
       "      <td>44923</td>\n",
       "      <td>45211</td>\n",
       "      <td>43354</td>\n",
       "      <td>45211</td>\n",
       "      <td>45211</td>\n",
       "      <td>45211</td>\n",
       "      <td>32191</td>\n",
       "      <td>45211</td>\n",
       "      <td>8252</td>\n",
       "      <td>45211</td>\n",
       "    </tr>\n",
       "    <tr>\n",
       "      <th>unique</th>\n",
       "      <td>11</td>\n",
       "      <td>3</td>\n",
       "      <td>3</td>\n",
       "      <td>2</td>\n",
       "      <td>2</td>\n",
       "      <td>2</td>\n",
       "      <td>2</td>\n",
       "      <td>12</td>\n",
       "      <td>3</td>\n",
       "      <td>2</td>\n",
       "    </tr>\n",
       "    <tr>\n",
       "      <th>top</th>\n",
       "      <td>blue-collar</td>\n",
       "      <td>married</td>\n",
       "      <td>secondary</td>\n",
       "      <td>no</td>\n",
       "      <td>yes</td>\n",
       "      <td>no</td>\n",
       "      <td>cellular</td>\n",
       "      <td>may</td>\n",
       "      <td>failure</td>\n",
       "      <td>no</td>\n",
       "    </tr>\n",
       "    <tr>\n",
       "      <th>freq</th>\n",
       "      <td>9732</td>\n",
       "      <td>27214</td>\n",
       "      <td>23202</td>\n",
       "      <td>44396</td>\n",
       "      <td>25130</td>\n",
       "      <td>37967</td>\n",
       "      <td>29285</td>\n",
       "      <td>13766</td>\n",
       "      <td>4901</td>\n",
       "      <td>39922</td>\n",
       "    </tr>\n",
       "  </tbody>\n",
       "</table>\n",
       "</div>"
      ],
      "text/plain": [
       "                job  marital  education default housing   loan   contact  \\\n",
       "count         44923    45211      43354   45211   45211  45211     32191   \n",
       "unique           11        3          3       2       2      2         2   \n",
       "top     blue-collar  married  secondary      no     yes     no  cellular   \n",
       "freq           9732    27214      23202   44396   25130  37967     29285   \n",
       "\n",
       "        month poutcome      y  \n",
       "count   45211     8252  45211  \n",
       "unique     12        3      2  \n",
       "top       may  failure     no  \n",
       "freq    13766     4901  39922  "
      ]
     },
     "execution_count": 5,
     "metadata": {},
     "output_type": "execute_result"
    }
   ],
   "source": [
    "basic_info.categorical_statistical_summary(df)"
   ]
  },
  {
   "cell_type": "markdown",
   "metadata": {},
   "source": [
    "# Summary of Categorical Columns\n",
    "\n",
    "| Column      | Count  | Unique | Most Frequent Value | Frequency of Top Value |\n",
    "|-------------|--------|--------|----------------------|-------------------------|\n",
    "| <span style=\"color: orange;\">job</span>      | 44,923 | 11     | blue-collar           | 9,732                   |\n",
    "| <span style=\"color: orange;\">marital</span>  | 45,211 | 3      | married               | 27,214                  |\n",
    "| <span style=\"color: orange;\">education</span>| 43,354 | 3      | secondary             | 23,202                  |\n",
    "| <span style=\"color: orange;\">default</span>  | 45,211 | 2      | no                    | 44,396                  |\n",
    "| <span style=\"color: orange;\">housing</span>  | 45,211 | 2      | yes                   | 25,130                  |\n",
    "| <span style=\"color: orange;\">loan</span>     | 45,211 | 2      | no                    | 37,967                  |\n",
    "| <span style=\"color: orange;\">contact</span>  | 32,191 | 2      | cellular              | 29,285                  |\n",
    "| <span style=\"color: orange;\">month</span>    | 45,211 | 12     | may                   | 13,766                  |\n",
    "| <span style=\"color: orange;\">poutcome</span> | 8,252  | 3      | failure               | 4,901                   |\n",
    "| <span style=\"color: orange;\">y</span>        | 45,211 | 2      | no                    | 39,922                  |\n",
    "\n",
    "## Insights\n",
    "- The **job** column has the highest number of unique values among the categorical features.\n",
    "- Most customers are **married** and have **secondary education**.\n",
    "- The majority of interactions occurred in **May**.\n",
    "- The target column <span style=\"color: orange;\">y</span> has two categories: \"yes\" and \"no,\" with \"no\" being significantly more frequent.\n"
   ]
  },
  {
   "cell_type": "code",
   "execution_count": 6,
   "metadata": {},
   "outputs": [
    {
     "data": {
      "text/html": [
       "<div>\n",
       "<style scoped>\n",
       "    .dataframe tbody tr th:only-of-type {\n",
       "        vertical-align: middle;\n",
       "    }\n",
       "\n",
       "    .dataframe tbody tr th {\n",
       "        vertical-align: top;\n",
       "    }\n",
       "\n",
       "    .dataframe thead th {\n",
       "        text-align: right;\n",
       "    }\n",
       "</style>\n",
       "<table border=\"1\" class=\"dataframe\">\n",
       "  <thead>\n",
       "    <tr style=\"text-align: right;\">\n",
       "      <th></th>\n",
       "      <th>age</th>\n",
       "      <th>balance</th>\n",
       "      <th>day_of_week</th>\n",
       "      <th>duration</th>\n",
       "      <th>campaign</th>\n",
       "      <th>pdays</th>\n",
       "      <th>previous</th>\n",
       "    </tr>\n",
       "  </thead>\n",
       "  <tbody>\n",
       "    <tr>\n",
       "      <th>count</th>\n",
       "      <td>45211.000000</td>\n",
       "      <td>45211.000000</td>\n",
       "      <td>45211.000000</td>\n",
       "      <td>45211.000000</td>\n",
       "      <td>45211.000000</td>\n",
       "      <td>45211.000000</td>\n",
       "      <td>45211.000000</td>\n",
       "    </tr>\n",
       "    <tr>\n",
       "      <th>mean</th>\n",
       "      <td>40.936210</td>\n",
       "      <td>1362.272058</td>\n",
       "      <td>15.806419</td>\n",
       "      <td>258.163080</td>\n",
       "      <td>2.763841</td>\n",
       "      <td>40.197828</td>\n",
       "      <td>0.580323</td>\n",
       "    </tr>\n",
       "    <tr>\n",
       "      <th>std</th>\n",
       "      <td>10.618762</td>\n",
       "      <td>3044.765829</td>\n",
       "      <td>8.322476</td>\n",
       "      <td>257.527812</td>\n",
       "      <td>3.098021</td>\n",
       "      <td>100.128746</td>\n",
       "      <td>2.303441</td>\n",
       "    </tr>\n",
       "    <tr>\n",
       "      <th>min</th>\n",
       "      <td>18.000000</td>\n",
       "      <td>-8019.000000</td>\n",
       "      <td>1.000000</td>\n",
       "      <td>0.000000</td>\n",
       "      <td>1.000000</td>\n",
       "      <td>-1.000000</td>\n",
       "      <td>0.000000</td>\n",
       "    </tr>\n",
       "    <tr>\n",
       "      <th>25%</th>\n",
       "      <td>33.000000</td>\n",
       "      <td>72.000000</td>\n",
       "      <td>8.000000</td>\n",
       "      <td>103.000000</td>\n",
       "      <td>1.000000</td>\n",
       "      <td>-1.000000</td>\n",
       "      <td>0.000000</td>\n",
       "    </tr>\n",
       "    <tr>\n",
       "      <th>50%</th>\n",
       "      <td>39.000000</td>\n",
       "      <td>448.000000</td>\n",
       "      <td>16.000000</td>\n",
       "      <td>180.000000</td>\n",
       "      <td>2.000000</td>\n",
       "      <td>-1.000000</td>\n",
       "      <td>0.000000</td>\n",
       "    </tr>\n",
       "    <tr>\n",
       "      <th>75%</th>\n",
       "      <td>48.000000</td>\n",
       "      <td>1428.000000</td>\n",
       "      <td>21.000000</td>\n",
       "      <td>319.000000</td>\n",
       "      <td>3.000000</td>\n",
       "      <td>-1.000000</td>\n",
       "      <td>0.000000</td>\n",
       "    </tr>\n",
       "    <tr>\n",
       "      <th>max</th>\n",
       "      <td>95.000000</td>\n",
       "      <td>102127.000000</td>\n",
       "      <td>31.000000</td>\n",
       "      <td>4918.000000</td>\n",
       "      <td>63.000000</td>\n",
       "      <td>871.000000</td>\n",
       "      <td>275.000000</td>\n",
       "    </tr>\n",
       "  </tbody>\n",
       "</table>\n",
       "</div>"
      ],
      "text/plain": [
       "                age        balance   day_of_week      duration      campaign  \\\n",
       "count  45211.000000   45211.000000  45211.000000  45211.000000  45211.000000   \n",
       "mean      40.936210    1362.272058     15.806419    258.163080      2.763841   \n",
       "std       10.618762    3044.765829      8.322476    257.527812      3.098021   \n",
       "min       18.000000   -8019.000000      1.000000      0.000000      1.000000   \n",
       "25%       33.000000      72.000000      8.000000    103.000000      1.000000   \n",
       "50%       39.000000     448.000000     16.000000    180.000000      2.000000   \n",
       "75%       48.000000    1428.000000     21.000000    319.000000      3.000000   \n",
       "max       95.000000  102127.000000     31.000000   4918.000000     63.000000   \n",
       "\n",
       "              pdays      previous  \n",
       "count  45211.000000  45211.000000  \n",
       "mean      40.197828      0.580323  \n",
       "std      100.128746      2.303441  \n",
       "min       -1.000000      0.000000  \n",
       "25%       -1.000000      0.000000  \n",
       "50%       -1.000000      0.000000  \n",
       "75%       -1.000000      0.000000  \n",
       "max      871.000000    275.000000  "
      ]
     },
     "execution_count": 6,
     "metadata": {},
     "output_type": "execute_result"
    }
   ],
   "source": [
    "basic_info.numerical_statistical_summary(df)"
   ]
  },
  {
   "cell_type": "markdown",
   "metadata": {},
   "source": [
    "# Summary of Numerical Columns\n",
    "\n",
    "| Column             | Count      | Mean        | Std Dev    | Min       | 25%       | 50%       | 75%       | Max       |\n",
    "|---------------------|------------|-------------|------------|-----------|-----------|-----------|-----------|-----------|\n",
    "| <span style=\"color: orange;\">age</span>             | 45,211     | 40.94      | 10.62      | 18        | 33        | 39        | 48        | 95        |\n",
    "| <span style=\"color: orange;\">balance</span>         | 45,211     | 1,362.27   | 3,044.77   | -8,019    | 72        | 448       | 1,428     | 102,127   |\n",
    "| <span style=\"color: orange;\">day_of_week</span>     | 45,211     | 15.81      | 8.32       | 1         | 8         | 16        | 21        | 31        |\n",
    "| <span style=\"color: orange;\">duration</span>        | 45,211     | 258.16     | 257.53     | 0         | 103       | 180       | 319       | 4,918     |\n",
    "| <span style=\"color: orange;\">campaign</span>        | 45,211     | 2.76       | 3.10       | 1         | 1         | 2         | 3         | 63        |\n",
    "| <span style=\"color: orange;\">pdays</span>           | 45,211     | 40.20      | 100.13     | -1        | -1        | -1        | -1        | 871       |\n",
    "| <span style=\"color: orange;\">previous</span>        | 45,211     | 0.58       | 2.30       | 0         | 0         | 0         | 0         | 275       |\n",
    "\n",
    "## Distribution Analysis\n",
    "1. **<span style=\"color: orange;\">age</span>:** \n",
    "   - The age distribution has a mean of ~40.94 years with a standard deviation of ~10.62, indicating most values are clustered around the mean. \n",
    "   - The minimum is 18, and the maximum is 95, with the middle 50% of values ranging from 33 to 48.\n",
    "\n",
    "2. **<span style=\"color: orange;\">balance</span>:**\n",
    "   - The average account balance is ~1,362.27 with a very high standard deviation of ~3,044.77, suggesting the presence of significant outliers (e.g., maximum of 102,127 and minimum of -8,019). \n",
    "   - A majority of values fall between 72 (25th percentile) and 1,428 (75th percentile).\n",
    "\n",
    "3. **<span style=\"color: orange;\">day_of_week</span>:**\n",
    "   - Days of the week are represented numerically (1–31), with a fairly uniform distribution given the mean of ~15.81 and standard deviation of ~8.32.\n",
    "\n",
    "4. **<span style=\"color: orange;\">duration</span>:**\n",
    "   - Call duration varies widely with a mean of ~258 seconds and a standard deviation almost equal to the mean (~257). The data shows significant variation, with some extremely long calls (up to 4,918 seconds).\n",
    "\n",
    "5. **<span style=\"color: orange;\">campaign</span>:**\n",
    "   - The number of contacts per campaign has a mean of ~2.76 and ranges from 1 to 63. The standard deviation (~3.10) suggests a right-skewed distribution with a few customers contacted many times.\n",
    "\n",
    "6. **<span style=\"color: orange;\">pdays</span>:**\n",
    "   - This column has a mean of ~40.20, but the median value is -1, indicating a large number of entries where the customer was not previously contacted. The range is wide, from -1 to 871.\n",
    "\n",
    "7. **<span style=\"color: orange;\">previous</span>:**\n",
    "   - The distribution shows most customers had no previous contacts (median is 0). A small number of customers were contacted many times (up to 275).\n",
    "\n",
    "## Key Observations\n",
    "- **Outliers:** Significant outliers are present in <span style=\"color: orange;\">balance</span>, <span style=\"color: orange;\">duration</span>, and <span style=\"color: orange;\">previous</span>, which may impact model performance.\n",
    "- **Skewness:** <span style=\"color: orange;\">campaign</span>, <span style=\"color: orange;\">pdays</span>, and <span style=\"color: orange;\">previous</span> appear to have skewed distributions.\n",
    "- **Imbalance:** The high standard deviations and extreme values suggest that normalization or scaling may be required for some features.\n"
   ]
  },
  {
   "cell_type": "markdown",
   "metadata": {},
   "source": [
    "### Data Preprocessing"
   ]
  },
  {
   "cell_type": "code",
   "execution_count": 7,
   "metadata": {},
   "outputs": [
    {
     "data": {
      "text/plain": [
       "age                0\n",
       "job              288\n",
       "marital            0\n",
       "education       1857\n",
       "default            0\n",
       "balance            0\n",
       "housing            0\n",
       "loan               0\n",
       "contact        13020\n",
       "day_of_week        0\n",
       "month              0\n",
       "duration           0\n",
       "campaign           0\n",
       "pdays              0\n",
       "previous           0\n",
       "poutcome       36959\n",
       "y                  0\n",
       "dtype: int64"
      ]
     },
     "execution_count": 7,
     "metadata": {},
     "output_type": "execute_result"
    }
   ],
   "source": [
    "df.isnull().sum()"
   ]
  },
  {
   "cell_type": "code",
   "execution_count": 8,
   "metadata": {},
   "outputs": [],
   "source": [
    "\n",
    "df['job'] = df['job'].fillna(df['job'].mode()[0])\n",
    "df['education'] = df['education'].fillna(df['education'].mode()[0])\n",
    "df['contact'] = df['contact'].fillna(df['contact'].mode()[0])"
   ]
  },
  {
   "cell_type": "code",
   "execution_count": 9,
   "metadata": {},
   "outputs": [
    {
     "data": {
      "text/plain": [
       "age                0\n",
       "job                0\n",
       "marital            0\n",
       "education          0\n",
       "default            0\n",
       "balance            0\n",
       "housing            0\n",
       "loan               0\n",
       "contact            0\n",
       "day_of_week        0\n",
       "month              0\n",
       "duration           0\n",
       "campaign           0\n",
       "pdays              0\n",
       "previous           0\n",
       "poutcome       36959\n",
       "y                  0\n",
       "dtype: int64"
      ]
     },
     "execution_count": 9,
     "metadata": {},
     "output_type": "execute_result"
    }
   ],
   "source": [
    "df.isnull().sum()"
   ]
  },
  {
   "cell_type": "code",
   "execution_count": 11,
   "metadata": {},
   "outputs": [],
   "source": [
    "from sklearn.preprocessing import LabelEncoder\n",
    "le = LabelEncoder()"
   ]
  },
  {
   "cell_type": "code",
   "execution_count": 12,
   "metadata": {},
   "outputs": [],
   "source": [
    "\n",
    "df['education']= le.fit_transform(df['education'])\n",
    "df['job'] = le.fit_transform(df['job'])\n",
    "df['marital'] = df['marital'].map({'single':0,'married':1,'divorced':2})\n",
    "df['default'] = df['default'].map({'no':0,'yes':1})\n",
    "df['housing'] = df['housing'].map({'no':0,'yes':1})\n",
    "df['loan'] = df['loan'].map({'no':0,'yes':1})\n",
    "df['contact'] = df['contact'].map({'cellular':0,'telephone':1})\n",
    "df['month'] = df['month'].map({'jan':0,'feb':1,'mar':2,'apr':3,'may':4,'jun':5,'jul':6,'aug':7,'sep':8,'oct':9,'nov':10,'dec':11})\n",
    "df['y'] = df['y'].map({'no':0,'yes':1})\n",
    "df.drop(['poutcome'],axis=1,inplace=True)"
   ]
  },
  {
   "cell_type": "code",
   "execution_count": 14,
   "metadata": {},
   "outputs": [],
   "source": [
    "df.to_csv('/home/sarath_kumar/Bank_Marketing/data/bank_marketing_preprocessed.csv',index=False)"
   ]
  },
  {
   "cell_type": "code",
   "execution_count": 29,
   "metadata": {},
   "outputs": [
    {
     "data": {
      "text/plain": [
       "age            0\n",
       "job            0\n",
       "marital        0\n",
       "education      0\n",
       "default        0\n",
       "balance        0\n",
       "housing        0\n",
       "loan           0\n",
       "contact        0\n",
       "day_of_week    0\n",
       "month          0\n",
       "duration       0\n",
       "campaign       0\n",
       "pdays          0\n",
       "previous       0\n",
       "y              0\n",
       "dtype: int64"
      ]
     },
     "execution_count": 29,
     "metadata": {},
     "output_type": "execute_result"
    }
   ],
   "source": [
    "df.isnull().sum()"
   ]
  }
 ],
 "metadata": {
  "kernelspec": {
   "display_name": "myenv",
   "language": "python",
   "name": "python3"
  },
  "language_info": {
   "codemirror_mode": {
    "name": "ipython",
    "version": 3
   },
   "file_extension": ".py",
   "mimetype": "text/x-python",
   "name": "python",
   "nbconvert_exporter": "python",
   "pygments_lexer": "ipython3",
   "version": "3.12.3"
  }
 },
 "nbformat": 4,
 "nbformat_minor": 2
}
